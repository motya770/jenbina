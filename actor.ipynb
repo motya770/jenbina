{
 "cells": [
  {
   "cell_type": "code",
   "execution_count": 1,
   "metadata": {},
   "outputs": [],
   "source": [
    "class Actor:\n",
    "    def __init__(self, name):\n",
    "        self.name = name\n",
    "        self.energy = 100  # initialize energy to 100%\n",
    "\n",
    "    def eat(self, food):\n",
    "        \"\"\"Restore some of the actor's energy\"\"\"\n",
    "        if isinstance(food, str):  # assume 'food' is a string representing a snack\n",
    "            energy_restored = int(food[:-1])  # extract the numeric value from the string (e.g. \"20cookies\")\n",
    "            self.energy += energy_restored\n",
    "            if self.energy > 100:  # prevent energy from exceeding 100%\n",
    "                self.energy = 100\n",
    "        else:\n",
    "            print(f\"{self.name} can't eat {type(food)}\")\n",
    "\n",
    "    def __str__(self):\n",
    "        return f\"{self.name} has {self.energy}% energy remaining\"    "
   ]
  },
  {
   "cell_type": "code",
   "execution_count": 2,
   "metadata": {},
   "outputs": [
    {
     "name": "stdout",
     "output_type": "stream",
     "text": [
      "a\n"
     ]
    }
   ],
   "source": [
    "print(\"a\")"
   ]
  },
  {
   "cell_type": "code",
   "execution_count": null,
   "metadata": {},
   "outputs": [],
   "source": []
  }
 ],
 "metadata": {
  "kernelspec": {
   "display_name": "Python 3",
   "language": "python",
   "name": "python3"
  },
  "language_info": {
   "codemirror_mode": {
    "name": "ipython",
    "version": 3
   },
   "file_extension": ".py",
   "mimetype": "text/x-python",
   "name": "python",
   "nbconvert_exporter": "python",
   "pygments_lexer": "ipython3",
   "version": "3.10.12"
  }
 },
 "nbformat": 4,
 "nbformat_minor": 4
}
